{
 "cells": [
  {
   "cell_type": "code",
   "execution_count": 218,
   "metadata": {},
   "outputs": [],
   "source": [
    "import numpy as np\n",
    "import pandas as pd\n",
    "import os\n",
    "import matplotlib.pyplot as plt"
   ]
  },
  {
   "cell_type": "code",
   "execution_count": 219,
   "metadata": {},
   "outputs": [],
   "source": [
    "script_dir = os.path.dirname(os.path.abspath(__file__)) if \"__file__\" in locals() else os.getcwd()\n",
    "seed = 0"
   ]
  },
  {
   "cell_type": "code",
   "execution_count": 220,
   "metadata": {},
   "outputs": [],
   "source": [
    "class Hopfield:\n",
    "    def __init__(self, size):\n",
    "        self.size = size\n",
    "        self.weights = np.zeros((size, size))\n",
    "\n",
    "    def train_hebb(self, patterns, lr=1.0):\n",
    "        self.weights = np.zeros((self.size, self.size))\n",
    "\n",
    "        for pattern in patterns:\n",
    "            self.weights += lr * np.outer(pattern, pattern)\n",
    "\n",
    "        np.fill_diagonal(self.weights, 0)\n",
    "        self.weights /= len(patterns)\n",
    "    \n",
    "    def train_oja(self, patterns, lr=0.001):\n",
    "        self.weights = np.random.uniform(-1, 1, (self.size, self.size)) / np.sqrt(self.size)\n",
    "        np.fill_diagonal(self.weights, 0)\n",
    "\n",
    "        for _ in range(100):\n",
    "            for pattern in patterns:\n",
    "                x = pattern\n",
    "                w = self.weights\n",
    "                y = w.T @ x\n",
    "                # dw = lr * (np.outer(y, x) - np.outer(y, y) @ w)\n",
    "                dw = lr * np.outer(y, (x - y @ w))\n",
    "                self.weights += dw / len(patterns)\n",
    "                np.fill_diagonal(self.weights, 0)\n",
    "\n",
    "    def energy(self, state):\n",
    "        return -0.5 * np.dot(np.dot(state, self.weights), state)\n",
    "\n",
    "    def update(self, state, num_iterations=100, update_type=\"sync\"):\n",
    "        state = state.copy()\n",
    "\n",
    "        for _ in range(num_iterations):\n",
    "            if update_type == \"async\":\n",
    "                for i in np.random.permutation(self.size):\n",
    "                    activation = np.dot(self.weights[i], state)\n",
    "                    state[i] = 1 if activation >= 0 else -1\n",
    "            else:\n",
    "                activation = np.dot(self.weights, state)\n",
    "                state = np.where(activation >= 0, 1, -1)\n",
    "\n",
    "        return state"
   ]
  },
  {
   "cell_type": "code",
   "execution_count": 221,
   "metadata": {},
   "outputs": [],
   "source": [
    "def shuffle_pattern(pattern, prob):\n",
    "    noise = np.random.rand(pattern.size) < prob\n",
    "    noisy_pattern = np.where(noise, -1 * pattern, pattern)\n",
    "    \n",
    "    return noisy_pattern"
   ]
  },
  {
   "cell_type": "code",
   "execution_count": 222,
   "metadata": {},
   "outputs": [],
   "source": [
    "def show_pattern(pattern, size):\n",
    "    pattern = pattern.copy()\n",
    "    pattern.shape = size\n",
    "    plt.imshow(pattern, cmap=\"gray\")\n",
    "    plt.show()"
   ]
  },
  {
   "cell_type": "code",
   "execution_count": 223,
   "metadata": {},
   "outputs": [],
   "source": [
    "def pattern_diff(pattern1, pattern2):\n",
    "    return np.sum(pattern1 != pattern2)"
   ]
  },
  {
   "cell_type": "code",
   "execution_count": 224,
   "metadata": {},
   "outputs": [],
   "source": [
    "folder_path = 'data'\n",
    "files = [os.path.join(folder_path, f) for f in os.listdir(folder_path) if os.path.isfile(os.path.join(folder_path, f))]"
   ]
  },
  {
   "cell_type": "code",
   "execution_count": 225,
   "metadata": {},
   "outputs": [],
   "source": [
    "patterns = pd.read_csv(files[0], header=None).values"
   ]
  },
  {
   "cell_type": "code",
   "execution_count": 226,
   "metadata": {},
   "outputs": [
    {
     "data": {
      "image/png": "[encoded data removed]",
      "text/plain": [
       "<Figure size 640x480 with 1 Axes>"
      ]
     },
     "metadata": {},
     "output_type": "display_data"
    }
   ],
   "source": [
    "show_pattern(patterns[1], (9, 14))"
   ]
  },
  {
   "cell_type": "code",
   "execution_count": 227,
   "metadata": {},
   "outputs": [
    {
     "data": {
      "image/png": "[encoded data removed]",
      "text/plain": [
       "<Figure size 640x480 with 1 Axes>"
      ]
     },
     "metadata": {},
     "output_type": "display_data"
    }
   ],
   "source": [
    "noisy_pattern = shuffle_pattern(patterns[1], 0.1)\n",
    "show_pattern(noisy_pattern, (9, 14))"
   ]
  },
  {
   "cell_type": "code",
   "execution_count": 228,
   "metadata": {},
   "outputs": [],
   "source": [
    "hebb_net = Hopfield(len(patterns[0]))\n",
    "hebb_net.train_hebb(patterns)"
   ]
  },
  {
   "cell_type": "code",
   "execution_count": 229,
   "metadata": {},
   "outputs": [
    {
     "data": {
      "image/png": "[encoded data removed]",
      "text/plain": [
       "<Figure size 640x480 with 1 Axes>"
      ]
     },
     "metadata": {},
     "output_type": "display_data"
    },
    {
     "name": "stdout",
     "output_type": "stream",
     "text": [
      "Energy: -2078.6666666666665\n",
      "Diff: 26\n"
     ]
    }
   ],
   "source": [
    "recalled_pattern = hebb_net.update(noisy_pattern, num_iterations=100)\n",
    "show_pattern(recalled_pattern, (9, 14))\n",
    "print(\"Energy:\", hebb_net.energy(recalled_pattern))\n",
    "print(\"Diff:\", pattern_diff(recalled_pattern, patterns[1]))"
   ]
  },
  {
   "cell_type": "code",
   "execution_count": 230,
   "metadata": {},
   "outputs": [],
   "source": [
    "import re\n",
    "\n",
    "def extract_dataset_size(input_string):\n",
    "    match = re.search(r'(\\w+)-(\\d+x\\d+)', input_string)\n",
    "    if match:\n",
    "        dataset_size = match.group(2).split('x')\n",
    "        return int(dataset_size[0]), int(dataset_size[1])\n",
    "    return None, None"
   ]
  },
  {
   "cell_type": "code",
   "execution_count": 231,
   "metadata": {},
   "outputs": [],
   "source": [
    "data = []\n",
    "for file in files:\n",
    "    name = os.path.basename(file)\n",
    "    data.append({\n",
    "        'df': pd.read_csv(file, header=None).values,\n",
    "        'name': name,\n",
    "        'size': extract_dataset_size(name)\n",
    "    })"
   ]
  },
  {
   "cell_type": "code",
   "execution_count": 232,
   "metadata": {},
   "outputs": [
    {
     "name": "stdout",
     "output_type": "stream",
     "text": [
      "animals-14x9.csv (14, 9)\n",
      "Average diff (Hebb): 0.194\n",
      "Correct (Hebb): 0.167\n",
      "Average diff (Oja): 0.361\n",
      "Correct (Oja): 0.000\n",
      "large-25x25.csv (25, 25)\n",
      "Average diff (Hebb): 0.055\n",
      "Correct (Hebb): 0.500\n",
      "Average diff (Oja): 0.411\n",
      "Correct (Oja): 0.000\n",
      "large-25x25.plus.csv (25, 25)\n",
      "Average diff (Hebb): 0.298\n",
      "Correct (Hebb): 0.000\n",
      "Average diff (Oja): 0.417\n",
      "Correct (Oja): 0.000\n",
      "large-25x50.csv (25, 50)\n"
     ]
    },
    {
     "ename": "KeyboardInterrupt",
     "evalue": "",
     "output_type": "error",
     "traceback": [
      "\u001b[1;31m---------------------------------------------------------------------------\u001b[0m",
      "\u001b[1;31mKeyboardInterrupt\u001b[0m                         Traceback (most recent call last)",
      "Cell \u001b[1;32mIn[232], line 8\u001b[0m\n\u001b[0;32m      6\u001b[0m hebb_net\u001b[38;5;241m.\u001b[39mtrain_hebb(dataset[\u001b[38;5;124m'\u001b[39m\u001b[38;5;124mdf\u001b[39m\u001b[38;5;124m'\u001b[39m])\n\u001b[0;32m      7\u001b[0m oja_net \u001b[38;5;241m=\u001b[39m Hopfield(size)\n\u001b[1;32m----> 8\u001b[0m \u001b[43moja_net\u001b[49m\u001b[38;5;241;43m.\u001b[39;49m\u001b[43mtrain_oja\u001b[49m\u001b[43m(\u001b[49m\u001b[43mdataset\u001b[49m\u001b[43m[\u001b[49m\u001b[38;5;124;43m'\u001b[39;49m\u001b[38;5;124;43mdf\u001b[39;49m\u001b[38;5;124;43m'\u001b[39;49m\u001b[43m]\u001b[49m\u001b[43m)\u001b[49m\n\u001b[0;32m     10\u001b[0m hebb_total_diff \u001b[38;5;241m=\u001b[39m \u001b[38;5;241m0\u001b[39m\n\u001b[0;32m     11\u001b[0m hebb_correct \u001b[38;5;241m=\u001b[39m \u001b[38;5;241m0\u001b[39m\n",
      "Cell \u001b[1;32mIn[220], line 25\u001b[0m, in \u001b[0;36mHopfield.train_oja\u001b[1;34m(self, patterns, lr)\u001b[0m\n\u001b[0;32m     23\u001b[0m y \u001b[38;5;241m=\u001b[39m w\u001b[38;5;241m.\u001b[39mT \u001b[38;5;241m@\u001b[39m x\n\u001b[0;32m     24\u001b[0m \u001b[38;5;66;03m# dw = lr * (np.outer(y, x) - np.outer(y, y) @ w)\u001b[39;00m\n\u001b[1;32m---> 25\u001b[0m dw \u001b[38;5;241m=\u001b[39m lr \u001b[38;5;241m*\u001b[39m \u001b[43mnp\u001b[49m\u001b[38;5;241;43m.\u001b[39;49m\u001b[43mouter\u001b[49m\u001b[43m(\u001b[49m\u001b[43my\u001b[49m\u001b[43m,\u001b[49m\u001b[43m \u001b[49m\u001b[43m(\u001b[49m\u001b[43mx\u001b[49m\u001b[43m \u001b[49m\u001b[38;5;241;43m-\u001b[39;49m\u001b[43m \u001b[49m\u001b[43my\u001b[49m\u001b[43m \u001b[49m\u001b[38;5;241;43m@\u001b[39;49m\u001b[43m \u001b[49m\u001b[43mw\u001b[49m\u001b[43m)\u001b[49m\u001b[43m)\u001b[49m\n\u001b[0;32m     26\u001b[0m \u001b[38;5;28mself\u001b[39m\u001b[38;5;241m.\u001b[39mweights \u001b[38;5;241m+\u001b[39m\u001b[38;5;241m=\u001b[39m dw \u001b[38;5;241m/\u001b[39m \u001b[38;5;28mlen\u001b[39m(patterns)\n\u001b[0;32m     27\u001b[0m np\u001b[38;5;241m.\u001b[39mfill_diagonal(\u001b[38;5;28mself\u001b[39m\u001b[38;5;241m.\u001b[39mweights, \u001b[38;5;241m0\u001b[39m)\n",
      "File \u001b[1;32mc:\\Users\\kdens\\AppData\\Local\\Programs\\Python\\Python312\\Lib\\site-packages\\numpy\\core\\numeric.py:925\u001b[0m, in \u001b[0;36mouter\u001b[1;34m(a, b, out)\u001b[0m\n\u001b[0;32m    923\u001b[0m a \u001b[38;5;241m=\u001b[39m asarray(a)\n\u001b[0;32m    924\u001b[0m b \u001b[38;5;241m=\u001b[39m asarray(b)\n\u001b[1;32m--> 925\u001b[0m \u001b[38;5;28;01mreturn\u001b[39;00m \u001b[43mmultiply\u001b[49m\u001b[43m(\u001b[49m\u001b[43ma\u001b[49m\u001b[38;5;241;43m.\u001b[39;49m\u001b[43mravel\u001b[49m\u001b[43m(\u001b[49m\u001b[43m)\u001b[49m\u001b[43m[\u001b[49m\u001b[43m:\u001b[49m\u001b[43m,\u001b[49m\u001b[43m \u001b[49m\u001b[43mnewaxis\u001b[49m\u001b[43m]\u001b[49m\u001b[43m,\u001b[49m\u001b[43m \u001b[49m\u001b[43mb\u001b[49m\u001b[38;5;241;43m.\u001b[39;49m\u001b[43mravel\u001b[49m\u001b[43m(\u001b[49m\u001b[43m)\u001b[49m\u001b[43m[\u001b[49m\u001b[43mnewaxis\u001b[49m\u001b[43m,\u001b[49m\u001b[43m \u001b[49m\u001b[43m:\u001b[49m\u001b[43m]\u001b[49m\u001b[43m,\u001b[49m\u001b[43m \u001b[49m\u001b[43mout\u001b[49m\u001b[43m)\u001b[49m\n",
      "\u001b[1;31mKeyboardInterrupt\u001b[0m: "
     ]
    }
   ],
   "source": [
    "shuffle_chance = 0.3\n",
    "for dataset in data:\n",
    "    print(dataset['name'], dataset['size'])\n",
    "    size = dataset['size'][0] * dataset['size'][1]\n",
    "    hebb_net = Hopfield(size)\n",
    "    hebb_net.train_hebb(dataset['df'])\n",
    "    oja_net = Hopfield(size)\n",
    "    oja_net.train_oja(dataset['df'])\n",
    "\n",
    "    hebb_total_diff = 0\n",
    "    hebb_correct = 0\n",
    "    oja_total_diff = 0\n",
    "    oja_correct = 0\n",
    "    for pattern in dataset['df']:\n",
    "        noisy_pattern = shuffle_pattern(pattern, shuffle_chance)\n",
    "        recalled_pattern = hebb_net.update(noisy_pattern, num_iterations=100)\n",
    "        diff = pattern_diff(recalled_pattern, pattern)\n",
    "        if diff == 0:\n",
    "            hebb_correct += 1\n",
    "        hebb_total_diff += diff\n",
    "\n",
    "        recalled_pattern = oja_net.update(noisy_pattern, num_iterations=100)\n",
    "        diff = pattern_diff(recalled_pattern, pattern)\n",
    "        if diff == 0:\n",
    "            oja_correct += 1\n",
    "        oja_total_diff += diff\n",
    "    print('Average diff (Hebb):', f'{hebb_total_diff / len(dataset['df']) / size:.3f}')\n",
    "    print('Correct (Hebb):', f'{hebb_correct / len(dataset['df']):.3f}')\n",
    "    print('Average diff (Oja):', f'{oja_total_diff / len(dataset['df']) / size:.3f}')\n",
    "    print('Correct (Oja):', f'{oja_correct / len(dataset['df']):.3f}')"
   ]
  }
 ],
 "metadata": {
  "kernelspec": {
   "display_name": "Python 3",
   "language": "python",
   "name": "python3"
  },
  "language_info": {
   "codemirror_mode": {
    "name": "ipython",
    "version": 3
   },
   "file_extension": ".py",
   "mimetype": "text/x-python",
   "name": "python",
   "nbconvert_exporter": "python",
   "pygments_lexer": "ipython3",
   "version": "3.12.4"
  }
 },
 "nbformat": 4,
 "nbformat_minor": 2
}
